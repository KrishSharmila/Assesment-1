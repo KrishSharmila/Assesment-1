{
  "cells": [
    {
      "cell_type": "markdown",
      "metadata": {
        "id": "view-in-github",
        "colab_type": "text"
      },
      "source": [
        "<a href=\"https://colab.research.google.com/github/KrishSharmila/Assesment-1/blob/main/Register%26Login.ipynb\" target=\"_parent\"><img src=\"https://colab.research.google.com/assets/colab-badge.svg\" alt=\"Open In Colab\"/></a>"
      ]
    },
    {
      "cell_type": "code",
      "source": [
        "import re\n",
        "def register():\n",
        "  db=open(\"database.txt\",\"r\")\n",
        "  d=[]\n",
        "  f=[]\n",
        "  for i in db:\n",
        "    a,b=i.split(\",\")\n",
        "    b=b.strip()\n",
        "    d.append(a)\n",
        "    f.append(f)\n",
        "  data=dict(zip(d,f))  \n",
        "  email_cond='[A-Za-z0-9_+*$#&]+@[A-Za-z0-9]+\\.[A-Za-z]{2,}'\n",
        "  def check(username):\n",
        "   while True:  \n",
        "    if(re.fullmatch(email_cond,username)):\n",
        "      print(\"Email id Registeres Successfully!\")\n",
        "      break\n",
        "    else:\n",
        "      print(\"Email username doesn't match the criteria,try again\")\n",
        "      register()\n",
        "  username=input(\"create username\")    \n",
        "  check(username)\n",
        "  password=input(\"create password\")\n",
        "  flag=1\n",
        "  while True:\n",
        "      if(len(password)<8):\n",
        "         flag=0\n",
        "         break\n",
        "      elif not re.search(\"[a-z]\",password):\n",
        "         flag=0\n",
        "         break  \n",
        "      elif not re.search(\"[A-Z]\",password):\n",
        "        flag=0\n",
        "        break  \n",
        "      elif not re.search(\"[0-9]\",password):\n",
        "        flag=0\n",
        "        break  \n",
        "      elif not re.search(\"[@#$*&]\",password):\n",
        "        flag=0\n",
        "        break  \n",
        "      elif re.search(\"\\s\",password):\n",
        "        flag=0\n",
        "        break  \n",
        "      else:\n",
        "        print(\"password created successfully!\")\n",
        "        break\n",
        "  if flag==0:\n",
        "      print(\"Password doesn't match the criteria,try again\")\n",
        "      register()\n",
        "  else:\n",
        "     db=open(\"database.txt\",\"a\")\n",
        "     db.write(username+\",\"+password+\"\\n\")\n",
        "     print(\"Success!\")\n",
        "main()\n",
        "def access():\n",
        "  db=open(\"database.txt\",\"r\")\n",
        "  username=input(\"Enter username:\")\n",
        "  password=input(\"Enter password:\")\n",
        "  d=[]\n",
        "  f=[]\n",
        "  for i in db:\n",
        "    a,b=i.split(\",\")\n",
        "    b=b.strip()\n",
        "    d.append(a)\n",
        "    f.append(b)\n",
        "  data=dict(zip(d,f))\n",
        "  try:\n",
        "    if data[username]:\n",
        "      try:\n",
        "        if password==data[username]:\n",
        "          print(\"Login Successfully\")\n",
        "        else:\n",
        "          print(\"username or password incorrect\")\n",
        "          print(\"Register your details\")\n",
        "      except:\n",
        "        print(\"incorrect username or password\")\n",
        "        print(\"Register your details\")\n",
        "    else:\n",
        "      print(\"username doesn't exist\")\n",
        "      print(\"Register your details\")\n",
        "  except:\n",
        "    print(\"username doesn't exist\")\n",
        "    print(\"Register your details\")\n",
        "    main()\n",
        "\n",
        "def main(option=None):\n",
        "  print(\"select the option form below\")\n",
        "  print(\"\\n 1-Login \\n 2-Register\")\n",
        "  option=int(input())\n",
        "  if option==1:\n",
        "    access()\n",
        "  elif option==2:\n",
        "     register()\n",
        "  else:\n",
        "    print(\"Please enter the option\")\n",
        "main()     \n"
      ],
      "metadata": {
        "colab": {
          "base_uri": "https://localhost:8080/"
        },
        "id": "HoVr4mjTqRbv",
        "outputId": "e0c04747-2257-4c67-9fbb-0bf52821b6a2"
      },
      "execution_count": 214,
      "outputs": [
        {
          "output_type": "stream",
          "name": "stdout",
          "text": [
            "select the option form below\n",
            "\n",
            " 1-Login \n",
            " 2-Register\n",
            "2\n",
            "create usernamechaithu@gmail.com\n",
            "Email id Registeres Successfully!\n",
            "create passwordChaithu@345\n",
            "password created successfully!\n",
            "Success!\n",
            "select the option form below\n",
            "\n",
            " 1-Login \n",
            " 2-Register\n",
            "1\n",
            "Enter username:chaithu@gmail.com\n",
            "Enter password:Chaithu@345\n",
            "Login Successfully\n"
          ]
        }
      ]
    }
  ],
  "metadata": {
    "colab": {
      "provenance": [],
      "collapsed_sections": [],
      "authorship_tag": "ABX9TyPnOUhwz3BmERA9sPzIUeoS",
      "include_colab_link": true
    },
    "kernelspec": {
      "display_name": "Python 3",
      "name": "python3"
    },
    "language_info": {
      "name": "python"
    }
  },
  "nbformat": 4,
  "nbformat_minor": 0
}